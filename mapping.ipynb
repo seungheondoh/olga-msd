{
 "cells": [
  {
   "cell_type": "code",
   "execution_count": 1,
   "id": "470c928b-8d7e-41e2-9feb-6d351a8a928c",
   "metadata": {},
   "outputs": [],
   "source": [
    "import os\n",
    "import json\n",
    "import pandas as pd\n",
    "import sqlite3\n",
    "import numpy as np\n",
    "from tqdm.notebook import tqdm\n",
    "import pickle"
   ]
  },
  {
   "cell_type": "markdown",
   "id": "c1b07f45-3d2b-490f-9eff-451350c4eda1",
   "metadata": {},
   "source": [
    "# 1. Load Metadata"
   ]
  },
  {
   "cell_type": "code",
   "execution_count": 2,
   "id": "cee823f5-488c-4142-a9cc-896353015bcb",
   "metadata": {},
   "outputs": [
    {
     "data": {
      "text/plain": [
       "['train_triplets.txt',\n",
       " '7D_id_to_path.pkl',\n",
       " 'crawl',\n",
       " 'MSD_id_to_7D_id.pkl',\n",
       " 'olga',\n",
       " 'track_metadata.db']"
      ]
     },
     "execution_count": 2,
     "metadata": {},
     "output_type": "execute_result"
    }
   ],
   "source": [
    "os.listdir(\"./datasets\")"
   ]
  },
  {
   "cell_type": "code",
   "execution_count": 3,
   "id": "7530c324-7f52-4383-a400-be65e192ce19",
   "metadata": {},
   "outputs": [],
   "source": [
    "con = sqlite3.connect(\"./datasets/track_metadata.db\")\n",
    "msd_db = pd.read_sql_query(\"SELECT * FROM songs\", con)"
   ]
  },
  {
   "cell_type": "code",
   "execution_count": 4,
   "id": "cff5aa1c-4911-488f-a515-9b1099603a8d",
   "metadata": {},
   "outputs": [
    {
     "data": {
      "text/html": [
       "<div>\n",
       "<style scoped>\n",
       "    .dataframe tbody tr th:only-of-type {\n",
       "        vertical-align: middle;\n",
       "    }\n",
       "\n",
       "    .dataframe tbody tr th {\n",
       "        vertical-align: top;\n",
       "    }\n",
       "\n",
       "    .dataframe thead th {\n",
       "        text-align: right;\n",
       "    }\n",
       "</style>\n",
       "<table border=\"1\" class=\"dataframe\">\n",
       "  <thead>\n",
       "    <tr style=\"text-align: right;\">\n",
       "      <th></th>\n",
       "      <th>track_id</th>\n",
       "      <th>title</th>\n",
       "      <th>song_id</th>\n",
       "      <th>release</th>\n",
       "      <th>artist_id</th>\n",
       "      <th>artist_mbid</th>\n",
       "      <th>artist_name</th>\n",
       "      <th>duration</th>\n",
       "      <th>artist_familiarity</th>\n",
       "      <th>artist_hotttnesss</th>\n",
       "      <th>year</th>\n",
       "      <th>track_7digitalid</th>\n",
       "      <th>shs_perf</th>\n",
       "      <th>shs_work</th>\n",
       "    </tr>\n",
       "  </thead>\n",
       "  <tbody>\n",
       "    <tr>\n",
       "      <th>0</th>\n",
       "      <td>TRMMMYQ128F932D901</td>\n",
       "      <td>Silent Night</td>\n",
       "      <td>SOQMMHC12AB0180CB8</td>\n",
       "      <td>Monster Ballads X-Mas</td>\n",
       "      <td>ARYZTJS1187B98C555</td>\n",
       "      <td>357ff05d-848a-44cf-b608-cb34b5701ae5</td>\n",
       "      <td>Faster Pussy cat</td>\n",
       "      <td>252.05506</td>\n",
       "      <td>0.649822</td>\n",
       "      <td>0.394032</td>\n",
       "      <td>2003</td>\n",
       "      <td>7032331</td>\n",
       "      <td>-1</td>\n",
       "      <td>0</td>\n",
       "    </tr>\n",
       "    <tr>\n",
       "      <th>1</th>\n",
       "      <td>TRMMMKD128F425225D</td>\n",
       "      <td>Tanssi vaan</td>\n",
       "      <td>SOVFVAK12A8C1350D9</td>\n",
       "      <td>Karkuteillä</td>\n",
       "      <td>ARMVN3U1187FB3A1EB</td>\n",
       "      <td>8d7ef530-a6fd-4f8f-b2e2-74aec765e0f9</td>\n",
       "      <td>Karkkiautomaatti</td>\n",
       "      <td>156.55138</td>\n",
       "      <td>0.439604</td>\n",
       "      <td>0.356992</td>\n",
       "      <td>1995</td>\n",
       "      <td>1514808</td>\n",
       "      <td>-1</td>\n",
       "      <td>0</td>\n",
       "    </tr>\n",
       "  </tbody>\n",
       "</table>\n",
       "</div>"
      ],
      "text/plain": [
       "             track_id         title             song_id  \\\n",
       "0  TRMMMYQ128F932D901  Silent Night  SOQMMHC12AB0180CB8   \n",
       "1  TRMMMKD128F425225D   Tanssi vaan  SOVFVAK12A8C1350D9   \n",
       "\n",
       "                 release           artist_id  \\\n",
       "0  Monster Ballads X-Mas  ARYZTJS1187B98C555   \n",
       "1            Karkuteillä  ARMVN3U1187FB3A1EB   \n",
       "\n",
       "                            artist_mbid       artist_name   duration  \\\n",
       "0  357ff05d-848a-44cf-b608-cb34b5701ae5  Faster Pussy cat  252.05506   \n",
       "1  8d7ef530-a6fd-4f8f-b2e2-74aec765e0f9  Karkkiautomaatti  156.55138   \n",
       "\n",
       "   artist_familiarity  artist_hotttnesss  year  track_7digitalid  shs_perf  \\\n",
       "0            0.649822           0.394032  2003           7032331        -1   \n",
       "1            0.439604           0.356992  1995           1514808        -1   \n",
       "\n",
       "   shs_work  \n",
       "0         0  \n",
       "1         0  "
      ]
     },
     "execution_count": 4,
     "metadata": {},
     "output_type": "execute_result"
    }
   ],
   "source": [
    "msd_db.head(2)"
   ]
  },
  {
   "cell_type": "code",
   "execution_count": 5,
   "id": "3b01c853-2f28-4634-aa3d-b8a09b174aac",
   "metadata": {},
   "outputs": [
    {
     "data": {
      "text/html": [
       "<div>\n",
       "<style scoped>\n",
       "    .dataframe tbody tr th:only-of-type {\n",
       "        vertical-align: middle;\n",
       "    }\n",
       "\n",
       "    .dataframe tbody tr th {\n",
       "        vertical-align: top;\n",
       "    }\n",
       "\n",
       "    .dataframe thead th {\n",
       "        text-align: right;\n",
       "    }\n",
       "</style>\n",
       "<table border=\"1\" class=\"dataframe\">\n",
       "  <thead>\n",
       "    <tr style=\"text-align: right;\">\n",
       "      <th></th>\n",
       "      <th>musicbrainz_id</th>\n",
       "      <th>partition</th>\n",
       "      <th>tracks</th>\n",
       "    </tr>\n",
       "    <tr>\n",
       "      <th>index</th>\n",
       "      <th></th>\n",
       "      <th></th>\n",
       "      <th></th>\n",
       "    </tr>\n",
       "  </thead>\n",
       "  <tbody>\n",
       "    <tr>\n",
       "      <th>0</th>\n",
       "      <td>c5b11a19-5ba6-4554-a65b-e505c3296d48</td>\n",
       "      <td>train</td>\n",
       "      <td>['0376162c-24b4-4b52-a351-185e40de9b71', '1607...</td>\n",
       "    </tr>\n",
       "    <tr>\n",
       "      <th>1</th>\n",
       "      <td>252ca659-19c6-46e1-a464-c4b80300bb02</td>\n",
       "      <td>train</td>\n",
       "      <td>['029aebb5-4991-435a-90db-f56122c8fc4c', '0432...</td>\n",
       "    </tr>\n",
       "  </tbody>\n",
       "</table>\n",
       "</div>"
      ],
      "text/plain": [
       "                             musicbrainz_id partition  \\\n",
       "index                                                   \n",
       "0      c5b11a19-5ba6-4554-a65b-e505c3296d48     train   \n",
       "1      252ca659-19c6-46e1-a464-c4b80300bb02     train   \n",
       "\n",
       "                                                  tracks  \n",
       "index                                                     \n",
       "0      ['0376162c-24b4-4b52-a351-185e40de9b71', '1607...  \n",
       "1      ['029aebb5-4991-435a-90db-f56122c8fc4c', '0432...  "
      ]
     },
     "execution_count": 5,
     "metadata": {},
     "output_type": "execute_result"
    }
   ],
   "source": [
    "df_olga = pd.read_csv(\"./datasets/olga/olga.csv\", index_col = 0) # we don't use tracks\n",
    "df_olga.head(2)"
   ]
  },
  {
   "cell_type": "code",
   "execution_count": 6,
   "id": "35880709-3be8-48be-9ec1-956eff4cc1fc",
   "metadata": {},
   "outputs": [
    {
     "data": {
      "text/html": [
       "<div>\n",
       "<style scoped>\n",
       "    .dataframe tbody tr th:only-of-type {\n",
       "        vertical-align: middle;\n",
       "    }\n",
       "\n",
       "    .dataframe tbody tr th {\n",
       "        vertical-align: top;\n",
       "    }\n",
       "\n",
       "    .dataframe thead th {\n",
       "        text-align: right;\n",
       "    }\n",
       "</style>\n",
       "<table border=\"1\" class=\"dataframe\">\n",
       "  <thead>\n",
       "    <tr style=\"text-align: right;\">\n",
       "      <th></th>\n",
       "      <th>musicbrainz_id</th>\n",
       "      <th>partition</th>\n",
       "      <th>tracks</th>\n",
       "    </tr>\n",
       "    <tr>\n",
       "      <th>index</th>\n",
       "      <th></th>\n",
       "      <th></th>\n",
       "      <th></th>\n",
       "    </tr>\n",
       "  </thead>\n",
       "  <tbody>\n",
       "    <tr>\n",
       "      <th>0</th>\n",
       "      <td>c5b11a19-5ba6-4554-a65b-e505c3296d48</td>\n",
       "      <td>train</td>\n",
       "      <td>['0376162c-24b4-4b52-a351-185e40de9b71', '1607...</td>\n",
       "    </tr>\n",
       "    <tr>\n",
       "      <th>1</th>\n",
       "      <td>252ca659-19c6-46e1-a464-c4b80300bb02</td>\n",
       "      <td>train</td>\n",
       "      <td>['029aebb5-4991-435a-90db-f56122c8fc4c', '0432...</td>\n",
       "    </tr>\n",
       "    <tr>\n",
       "      <th>2</th>\n",
       "      <td>b9f29919-5d08-498d-bcfc-fda33deceade</td>\n",
       "      <td>train</td>\n",
       "      <td>['073902fd-e188-416d-aeec-49c9c7fdf4d7', '0984...</td>\n",
       "    </tr>\n",
       "    <tr>\n",
       "      <th>3</th>\n",
       "      <td>1b396d40-a35a-4558-b292-0b2685f7ea8f</td>\n",
       "      <td>train</td>\n",
       "      <td>['0a3e1513-cc41-4234-9245-3f15adefef46', '1b07...</td>\n",
       "    </tr>\n",
       "    <tr>\n",
       "      <th>4</th>\n",
       "      <td>84cff711-6d4f-49b9-bc54-f4db4c7addfb</td>\n",
       "      <td>train</td>\n",
       "      <td>['02911df4-a535-4da0-bd0f-06027f31da6c', '091b...</td>\n",
       "    </tr>\n",
       "    <tr>\n",
       "      <th>...</th>\n",
       "      <td>...</td>\n",
       "      <td>...</td>\n",
       "      <td>...</td>\n",
       "    </tr>\n",
       "    <tr>\n",
       "      <th>17668</th>\n",
       "      <td>4c8571fc-17ea-4eae-8a31-8d09997011e6</td>\n",
       "      <td>test</td>\n",
       "      <td>['1b7ed759-4e54-4d08-a55f-c5cb6d008034', '1cde...</td>\n",
       "    </tr>\n",
       "    <tr>\n",
       "      <th>17669</th>\n",
       "      <td>936f9130-333f-40dd-813f-6da80fd95c11</td>\n",
       "      <td>test</td>\n",
       "      <td>['04c957e9-46be-4c2c-a455-1f2b88db8822', '0ad0...</td>\n",
       "    </tr>\n",
       "    <tr>\n",
       "      <th>17670</th>\n",
       "      <td>b6b6f1cf-e1c8-46e9-bc54-1a63ed1f8d51</td>\n",
       "      <td>test</td>\n",
       "      <td>['04367c6a-7f42-4f46-a471-1805c2f950ac', '0520...</td>\n",
       "    </tr>\n",
       "    <tr>\n",
       "      <th>17671</th>\n",
       "      <td>fedd0667-a7be-47cc-b111-7d3c0fbab36d</td>\n",
       "      <td>test</td>\n",
       "      <td>['0a3826c8-e0ae-4ecf-817c-fdae7fe2e0aa', '3499...</td>\n",
       "    </tr>\n",
       "    <tr>\n",
       "      <th>17672</th>\n",
       "      <td>0bcbf30e-194e-4e55-935c-551c69586ae6</td>\n",
       "      <td>test</td>\n",
       "      <td>['06b5dce6-ee49-4d7a-8f52-0161d0d9429a', '0721...</td>\n",
       "    </tr>\n",
       "  </tbody>\n",
       "</table>\n",
       "<p>17673 rows × 3 columns</p>\n",
       "</div>"
      ],
      "text/plain": [
       "                             musicbrainz_id partition  \\\n",
       "index                                                   \n",
       "0      c5b11a19-5ba6-4554-a65b-e505c3296d48     train   \n",
       "1      252ca659-19c6-46e1-a464-c4b80300bb02     train   \n",
       "2      b9f29919-5d08-498d-bcfc-fda33deceade     train   \n",
       "3      1b396d40-a35a-4558-b292-0b2685f7ea8f     train   \n",
       "4      84cff711-6d4f-49b9-bc54-f4db4c7addfb     train   \n",
       "...                                     ...       ...   \n",
       "17668  4c8571fc-17ea-4eae-8a31-8d09997011e6      test   \n",
       "17669  936f9130-333f-40dd-813f-6da80fd95c11      test   \n",
       "17670  b6b6f1cf-e1c8-46e9-bc54-1a63ed1f8d51      test   \n",
       "17671  fedd0667-a7be-47cc-b111-7d3c0fbab36d      test   \n",
       "17672  0bcbf30e-194e-4e55-935c-551c69586ae6      test   \n",
       "\n",
       "                                                  tracks  \n",
       "index                                                     \n",
       "0      ['0376162c-24b4-4b52-a351-185e40de9b71', '1607...  \n",
       "1      ['029aebb5-4991-435a-90db-f56122c8fc4c', '0432...  \n",
       "2      ['073902fd-e188-416d-aeec-49c9c7fdf4d7', '0984...  \n",
       "3      ['0a3e1513-cc41-4234-9245-3f15adefef46', '1b07...  \n",
       "4      ['02911df4-a535-4da0-bd0f-06027f31da6c', '091b...  \n",
       "...                                                  ...  \n",
       "17668  ['1b7ed759-4e54-4d08-a55f-c5cb6d008034', '1cde...  \n",
       "17669  ['04c957e9-46be-4c2c-a455-1f2b88db8822', '0ad0...  \n",
       "17670  ['04367c6a-7f42-4f46-a471-1805c2f950ac', '0520...  \n",
       "17671  ['0a3826c8-e0ae-4ecf-817c-fdae7fe2e0aa', '3499...  \n",
       "17672  ['06b5dce6-ee49-4d7a-8f52-0161d0d9429a', '0721...  \n",
       "\n",
       "[17673 rows x 3 columns]"
      ]
     },
     "execution_count": 6,
     "metadata": {},
     "output_type": "execute_result"
    }
   ],
   "source": [
    "df_olga"
   ]
  },
  {
   "cell_type": "markdown",
   "id": "14ffbc00-288f-4790-8171-4144ec92e687",
   "metadata": {},
   "source": [
    "# 2. OLGA to MSD"
   ]
  },
  {
   "cell_type": "code",
   "execution_count": 7,
   "id": "fdbf44a4-b9cc-4526-9c66-7d8404ad6e32",
   "metadata": {},
   "outputs": [],
   "source": [
    "# thanks to Andres!\n",
    "merged = (\n",
    "    pd.DataFrame({'song_id': msd_db['song_id'].unique()}).merge(\n",
    "        msd_db.merge(\n",
    "            (\n",
    "                df_olga\n",
    "                .rename(columns={'musicbrainz_id': 'artist_mbid'})\n",
    "                .drop(['partition', 'tracks'], axis=1)\n",
    "            ),\n",
    "            how='inner',\n",
    "            on='artist_mbid'\n",
    "        ),\n",
    "        how='inner',\n",
    "        on='song_id'\n",
    "    )\n",
    ")"
   ]
  },
  {
   "cell_type": "code",
   "execution_count": 8,
   "id": "d0546db6-4ccb-496a-868b-d21caf30e2af",
   "metadata": {},
   "outputs": [
    {
     "data": {
      "text/html": [
       "<div>\n",
       "<style scoped>\n",
       "    .dataframe tbody tr th:only-of-type {\n",
       "        vertical-align: middle;\n",
       "    }\n",
       "\n",
       "    .dataframe tbody tr th {\n",
       "        vertical-align: top;\n",
       "    }\n",
       "\n",
       "    .dataframe thead th {\n",
       "        text-align: right;\n",
       "    }\n",
       "</style>\n",
       "<table border=\"1\" class=\"dataframe\">\n",
       "  <thead>\n",
       "    <tr style=\"text-align: right;\">\n",
       "      <th></th>\n",
       "      <th>song_id</th>\n",
       "      <th>track_id</th>\n",
       "      <th>title</th>\n",
       "      <th>release</th>\n",
       "      <th>artist_id</th>\n",
       "      <th>artist_mbid</th>\n",
       "      <th>artist_name</th>\n",
       "      <th>duration</th>\n",
       "      <th>artist_familiarity</th>\n",
       "      <th>artist_hotttnesss</th>\n",
       "      <th>year</th>\n",
       "      <th>track_7digitalid</th>\n",
       "      <th>shs_perf</th>\n",
       "      <th>shs_work</th>\n",
       "    </tr>\n",
       "  </thead>\n",
       "  <tbody>\n",
       "    <tr>\n",
       "      <th>0</th>\n",
       "      <td>SOQMMHC12AB0180CB8</td>\n",
       "      <td>TRMMMYQ128F932D901</td>\n",
       "      <td>Silent Night</td>\n",
       "      <td>Monster Ballads X-Mas</td>\n",
       "      <td>ARYZTJS1187B98C555</td>\n",
       "      <td>357ff05d-848a-44cf-b608-cb34b5701ae5</td>\n",
       "      <td>Faster Pussy cat</td>\n",
       "      <td>252.05506</td>\n",
       "      <td>0.649822</td>\n",
       "      <td>0.394032</td>\n",
       "      <td>2003</td>\n",
       "      <td>7032331</td>\n",
       "      <td>-1</td>\n",
       "      <td>0</td>\n",
       "    </tr>\n",
       "    <tr>\n",
       "      <th>1</th>\n",
       "      <td>SOGTUKN12AB017F4F1</td>\n",
       "      <td>TRMMMRX128F93187D9</td>\n",
       "      <td>No One Could Ever</td>\n",
       "      <td>Butter</td>\n",
       "      <td>ARGEKB01187FB50750</td>\n",
       "      <td>3d403d44-36ce-465c-ad43-ae877e65adc4</td>\n",
       "      <td>Hudson Mohawke</td>\n",
       "      <td>138.97098</td>\n",
       "      <td>0.643681</td>\n",
       "      <td>0.437504</td>\n",
       "      <td>2006</td>\n",
       "      <td>6945353</td>\n",
       "      <td>-1</td>\n",
       "      <td>0</td>\n",
       "    </tr>\n",
       "  </tbody>\n",
       "</table>\n",
       "</div>"
      ],
      "text/plain": [
       "              song_id            track_id              title  \\\n",
       "0  SOQMMHC12AB0180CB8  TRMMMYQ128F932D901       Silent Night   \n",
       "1  SOGTUKN12AB017F4F1  TRMMMRX128F93187D9  No One Could Ever   \n",
       "\n",
       "                 release           artist_id  \\\n",
       "0  Monster Ballads X-Mas  ARYZTJS1187B98C555   \n",
       "1                 Butter  ARGEKB01187FB50750   \n",
       "\n",
       "                            artist_mbid       artist_name   duration  \\\n",
       "0  357ff05d-848a-44cf-b608-cb34b5701ae5  Faster Pussy cat  252.05506   \n",
       "1  3d403d44-36ce-465c-ad43-ae877e65adc4    Hudson Mohawke  138.97098   \n",
       "\n",
       "   artist_familiarity  artist_hotttnesss  year  track_7digitalid  shs_perf  \\\n",
       "0            0.649822           0.394032  2003           7032331        -1   \n",
       "1            0.643681           0.437504  2006           6945353        -1   \n",
       "\n",
       "   shs_work  \n",
       "0         0  \n",
       "1         0  "
      ]
     },
     "execution_count": 8,
     "metadata": {},
     "output_type": "execute_result"
    }
   ],
   "source": [
    "merged.head(2)"
   ]
  },
  {
   "cell_type": "code",
   "execution_count": 9,
   "id": "650b5c47-d134-4f8a-a323-3e6614d144f9",
   "metadata": {},
   "outputs": [],
   "source": [
    "merged = merged.set_index(\"artist_mbid\")"
   ]
  },
  {
   "cell_type": "code",
   "execution_count": 10,
   "id": "b3030ca4-525a-40d6-bd69-0a449f325c73",
   "metadata": {},
   "outputs": [
    {
     "data": {
      "application/vnd.jupyter.widget-view+json": {
       "model_id": "a1da3c5f53e1435dbb764200383a3d47",
       "version_major": 2,
       "version_minor": 0
      },
      "text/plain": [
       "  0%|          | 0/17673 [00:00<?, ?it/s]"
      ]
     },
     "metadata": {},
     "output_type": "display_data"
    }
   ],
   "source": [
    "olga_to_msd, unique_tracks = {}, []\n",
    "for mbid in tqdm(df_olga['musicbrainz_id']):\n",
    "    instance = merged.loc[mbid]\n",
    "    if type(instance) == pd.core.frame.DataFrame:\n",
    "        paired_track = list(set(instance['track_id']))\n",
    "    else: # single instance case\n",
    "        paired_track = [instance['track_id']]\n",
    "    olga_to_msd[mbid] = paired_track\n",
    "    unique_tracks.extend(paired_track)"
   ]
  },
  {
   "cell_type": "code",
   "execution_count": 11,
   "id": "a9c9d37e-f050-48fa-b551-c8d33a5e892d",
   "metadata": {},
   "outputs": [
    {
     "data": {
      "text/plain": [
       "(552960, 552960)"
      ]
     },
     "execution_count": 11,
     "metadata": {},
     "output_type": "execute_result"
    }
   ],
   "source": [
    "len(unique_tracks), len(set(unique_tracks)) # 552k msd tracks are connected to OLGA Artist."
   ]
  },
  {
   "cell_type": "code",
   "execution_count": 12,
   "id": "f2beaa83-1fdd-456f-a552-e71b0a04ecfd",
   "metadata": {},
   "outputs": [
    {
     "data": {
      "text/plain": [
       "('c5b11a19-5ba6-4554-a65b-e505c3296d48',\n",
       " ['TRFNHSW12903CE05E7',\n",
       "  'TRLTWWT12903CE05E2',\n",
       "  'TRDXBLR12903CE05EA',\n",
       "  'TRDVJVX12903CE05D0',\n",
       "  'TRXGLJP12903CE05D3',\n",
       "  'TRRNNZM12903CE05C8',\n",
       "  'TRGYKVB12903CE05CD',\n",
       "  'TRBXMMJ12903CE05DB',\n",
       "  'TRDJOPM12903CE05DE',\n",
       "  'TRPLSLX12903CE05D7'])"
      ]
     },
     "execution_count": 12,
     "metadata": {},
     "output_type": "execute_result"
    }
   ],
   "source": [
    "list(olga_to_msd.items())[0]"
   ]
  },
  {
   "cell_type": "markdown",
   "id": "eb7f8a01-9a69-4e54-be88-00646cf4dd73",
   "metadata": {},
   "source": [
    "# 3. Statistics"
   ]
  },
  {
   "cell_type": "code",
   "execution_count": 13,
   "id": "652a3984-500a-4e49-afd9-9f743be7f7b2",
   "metadata": {},
   "outputs": [
    {
     "name": "stdout",
     "output_type": "stream",
     "text": [
      "avg:  31  min:  1  max:  208\n"
     ]
    },
    {
     "data": {
      "image/png": "[encoded data removed]",
      "text/plain": [
       "<Figure size 640x480 with 1 Axes>"
      ]
     },
     "metadata": {},
     "output_type": "display_data"
    }
   ],
   "source": [
    "import matplotlib.pyplot as plt\n",
    "artist_per_track = [len(track_ids) for artist, track_ids in olga_to_msd.items()]\n",
    "print(\"avg: \", int(np.mean(artist_per_track)), \" min: \",np.min(artist_per_track), \" max: \",np.max(artist_per_track))\n",
    "plt.hist(artist_per_track, bins=range(min(artist_per_track), max(artist_per_track) + 1), alpha=0.7)\n",
    "plt.title('Histogram of Artist Per Track')\n",
    "plt.xlabel('Number of Track')\n",
    "plt.ylabel('Frequency')\n",
    "plt.show()"
   ]
  },
  {
   "cell_type": "code",
   "execution_count": 14,
   "id": "8b1874a6-d052-4195-9c07-7e258b5cf95d",
   "metadata": {},
   "outputs": [
    {
     "name": "stdout",
     "output_type": "stream",
     "text": [
      "less than 25 track artist:  0.5130424942001924\n",
      "more than 100 track artist:  0.023651898376053866\n"
     ]
    }
   ],
   "source": [
    "less_track_artist = [x for x in artist_per_track if x <= 25]\n",
    "many_track_arist = [x for x in artist_per_track if x > 100]\n",
    "print(\"less than 25 track artist: \", (len(less_track_artist) / len(artist_per_track)))\n",
    "print(\"more than 100 track artist: \", (len(many_track_arist) / len(artist_per_track)))"
   ]
  },
  {
   "cell_type": "markdown",
   "id": "2dedc399-0bbf-4997-82d4-f14673ea8bca",
   "metadata": {},
   "source": [
    "# 4. Popular Artist\n",
    "\n",
    "according to [Contrastive Learning for Cross-modal Artist Retrieval](https://arxiv.org/abs/2308.06556), popular artist define as,\n",
    "\n",
    "```\n",
    "3.4 Effect of Popularity\n",
    "Artist popularity may be a deterministic factor in artist retrieval, both for training and evaluation. Intuitively, we likely have more data about popular artists, which implies more multimodal data is available for training. At the same time, the scale of evaluation metric themselves can be inflated as more popular artists would have more ground truths (annotated as ‘similar artists’). To confirm this, we compute a proxy measure for the artist popularity (POP) as\n",
    "```\n",
    "\n",
    "$$\n",
    "\\text{POP(artist)} = \\log{(\\# listen + 1)}\n",
    "$$\n",
    "\n",
    "```\n",
    "#listen denotes the total listening count of the artist, computed from the MSD-Echonest Profile dataset\n",
    "```"
   ]
  },
  {
   "cell_type": "code",
   "execution_count": 15,
   "id": "8a4090a8-d131-4d00-9cf9-2dbf8d4e10f0",
   "metadata": {},
   "outputs": [],
   "source": [
    "echonest = open(\"./datasets/train_triplets.txt\").readlines()"
   ]
  },
  {
   "cell_type": "code",
   "execution_count": 16,
   "id": "9b8ff352-afb9-45a7-af1f-9754dad61988",
   "metadata": {},
   "outputs": [
    {
     "data": {
      "text/html": [
       "<div>\n",
       "<style scoped>\n",
       "    .dataframe tbody tr th:only-of-type {\n",
       "        vertical-align: middle;\n",
       "    }\n",
       "\n",
       "    .dataframe tbody tr th {\n",
       "        vertical-align: top;\n",
       "    }\n",
       "\n",
       "    .dataframe thead th {\n",
       "        text-align: right;\n",
       "    }\n",
       "</style>\n",
       "<table border=\"1\" class=\"dataframe\">\n",
       "  <thead>\n",
       "    <tr style=\"text-align: right;\">\n",
       "      <th></th>\n",
       "      <th>user_id</th>\n",
       "      <th>song_id</th>\n",
       "      <th>count</th>\n",
       "    </tr>\n",
       "  </thead>\n",
       "  <tbody>\n",
       "    <tr>\n",
       "      <th>0</th>\n",
       "      <td>b80344d063b5ccb3212f76538f3d9e43d87dca9e</td>\n",
       "      <td>SOAKIMP12A8C130995</td>\n",
       "      <td>1</td>\n",
       "    </tr>\n",
       "    <tr>\n",
       "      <th>1</th>\n",
       "      <td>b80344d063b5ccb3212f76538f3d9e43d87dca9e</td>\n",
       "      <td>SOAPDEY12A81C210A9</td>\n",
       "      <td>1</td>\n",
       "    </tr>\n",
       "  </tbody>\n",
       "</table>\n",
       "</div>"
      ],
      "text/plain": [
       "                                    user_id             song_id  count\n",
       "0  b80344d063b5ccb3212f76538f3d9e43d87dca9e  SOAKIMP12A8C130995      1\n",
       "1  b80344d063b5ccb3212f76538f3d9e43d87dca9e  SOAPDEY12A81C210A9      1"
      ]
     },
     "execution_count": 16,
     "metadata": {},
     "output_type": "execute_result"
    }
   ],
   "source": [
    "profile_dataset = []\n",
    "for item in echonest:\n",
    "    user, item, count = item.strip().split(\"\\t\")\n",
    "    profile_dataset.append({\n",
    "        \"user_id\": user,\n",
    "        \"song_id\": item,\n",
    "        \"count\": int(count)\n",
    "    })\n",
    "df_profile = pd.DataFrame(profile_dataset)\n",
    "df_profile.head(2)"
   ]
  },
  {
   "cell_type": "code",
   "execution_count": 17,
   "id": "e553757c-347a-4f35-a114-00a57e818a7a",
   "metadata": {},
   "outputs": [],
   "source": [
    "df_merge = pd.merge(msd_db.reset_index(), df_profile, on='song_id', how='outer')\n",
    "df_pop = df_merge.groupby('artist_mbid')['count'].sum().reset_index()\n",
    "df_pop[\"pop\"] = np.log10(df_pop['count'] + 1)"
   ]
  },
  {
   "cell_type": "code",
   "execution_count": 18,
   "id": "c8bf3e01-df04-4dc0-8d87-b5a6d1f74f14",
   "metadata": {},
   "outputs": [],
   "source": [
    "df_pop = df_pop.set_index(\"artist_mbid\").loc[df_olga[\"musicbrainz_id\"]]"
   ]
  },
  {
   "cell_type": "code",
   "execution_count": 19,
   "id": "528757a8-9344-49a8-be93-c08e29b81ddf",
   "metadata": {},
   "outputs": [
    {
     "data": {
      "text/html": [
       "<div>\n",
       "<style scoped>\n",
       "    .dataframe tbody tr th:only-of-type {\n",
       "        vertical-align: middle;\n",
       "    }\n",
       "\n",
       "    .dataframe tbody tr th {\n",
       "        vertical-align: top;\n",
       "    }\n",
       "\n",
       "    .dataframe thead th {\n",
       "        text-align: right;\n",
       "    }\n",
       "</style>\n",
       "<table border=\"1\" class=\"dataframe\">\n",
       "  <thead>\n",
       "    <tr style=\"text-align: right;\">\n",
       "      <th></th>\n",
       "      <th>count</th>\n",
       "      <th>pop</th>\n",
       "    </tr>\n",
       "    <tr>\n",
       "      <th>artist_mbid</th>\n",
       "      <th></th>\n",
       "      <th></th>\n",
       "    </tr>\n",
       "  </thead>\n",
       "  <tbody>\n",
       "    <tr>\n",
       "      <th>c5b11a19-5ba6-4554-a65b-e505c3296d48</th>\n",
       "      <td>0.0</td>\n",
       "      <td>0.000000</td>\n",
       "    </tr>\n",
       "    <tr>\n",
       "      <th>252ca659-19c6-46e1-a464-c4b80300bb02</th>\n",
       "      <td>204.0</td>\n",
       "      <td>2.311754</td>\n",
       "    </tr>\n",
       "    <tr>\n",
       "      <th>b9f29919-5d08-498d-bcfc-fda33deceade</th>\n",
       "      <td>110.0</td>\n",
       "      <td>2.045323</td>\n",
       "    </tr>\n",
       "    <tr>\n",
       "      <th>1b396d40-a35a-4558-b292-0b2685f7ea8f</th>\n",
       "      <td>318.0</td>\n",
       "      <td>2.503791</td>\n",
       "    </tr>\n",
       "    <tr>\n",
       "      <th>84cff711-6d4f-49b9-bc54-f4db4c7addfb</th>\n",
       "      <td>1837.0</td>\n",
       "      <td>3.264346</td>\n",
       "    </tr>\n",
       "  </tbody>\n",
       "</table>\n",
       "</div>"
      ],
      "text/plain": [
       "                                       count       pop\n",
       "artist_mbid                                           \n",
       "c5b11a19-5ba6-4554-a65b-e505c3296d48     0.0  0.000000\n",
       "252ca659-19c6-46e1-a464-c4b80300bb02   204.0  2.311754\n",
       "b9f29919-5d08-498d-bcfc-fda33deceade   110.0  2.045323\n",
       "1b396d40-a35a-4558-b292-0b2685f7ea8f   318.0  2.503791\n",
       "84cff711-6d4f-49b9-bc54-f4db4c7addfb  1837.0  3.264346"
      ]
     },
     "execution_count": 19,
     "metadata": {},
     "output_type": "execute_result"
    }
   ],
   "source": [
    "df_pop.head(5)"
   ]
  },
  {
   "cell_type": "markdown",
   "id": "7383aa56-b499-4c68-8072-c2be2ad32096",
   "metadata": {},
   "source": [
    "# 5. Check Missing Tracks\n",
    "\n",
    "There may be problems with MSD Audio for each research group, and there may be cases where audio is lost. Check for this."
   ]
  },
  {
   "cell_type": "code",
   "execution_count": 20,
   "id": "1f394506-114a-4a89-abbc-eb91a820af4d",
   "metadata": {},
   "outputs": [],
   "source": [
    "msd_to_id = pickle.load(open(os.path.join(\"./datasets\", \"MSD_id_to_7D_id.pkl\"), 'rb'))\n",
    "id_to_path = pickle.load(open(os.path.join(\"./datasets\", \"7D_id_to_path.pkl\"), 'rb'))"
   ]
  },
  {
   "cell_type": "code",
   "execution_count": 21,
   "id": "bb245bd7-f4cc-4477-a0d8-6c685ee9c924",
   "metadata": {},
   "outputs": [],
   "source": [
    "msd_dir = \"/data/seungheon/dataset/msd/npy\""
   ]
  },
  {
   "cell_type": "code",
   "execution_count": 22,
   "id": "a8745167-83ac-4234-ac9e-dba436c2d37b",
   "metadata": {},
   "outputs": [
    {
     "data": {
      "application/vnd.jupyter.widget-view+json": {
       "model_id": "a21faa62c13f4806b5bf8a9a833f2ee1",
       "version_major": 2,
       "version_minor": 0
      },
      "text/plain": [
       "  0%|          | 0/17673 [00:00<?, ?it/s]"
      ]
     },
     "metadata": {},
     "output_type": "display_data"
    }
   ],
   "source": [
    "_olga_to_msd = {k:[] for k in olga_to_msd.keys()}\n",
    "save_msd, error_msd = [], []\n",
    "for artist_mid, track_ids in tqdm(olga_to_msd.items()):\n",
    "    filter_track_ids = []\n",
    "    for track_id in track_ids:\n",
    "        try:\n",
    "            path = id_to_path[msd_to_id[track_id]].replace(\".mp3\", \".npy\")\n",
    "            kaist_msd_path = os.path.join(msd_dir, path)\n",
    "            if os.path.isfile(kaist_msd_path):\n",
    "                filter_track_ids.append(track_id)\n",
    "            else:\n",
    "                error_msd.append(track_id)\n",
    "        except:\n",
    "            error_msd.append(track_id)\n",
    "    save_msd.extend(list(set(filter_track_ids)))\n",
    "    _olga_to_msd[artist_mid] = list(set(filter_track_ids))"
   ]
  },
  {
   "cell_type": "code",
   "execution_count": 25,
   "id": "9e3aa5c0-f85e-4b3f-ba7f-524294754299",
   "metadata": {},
   "outputs": [
    {
     "data": {
      "text/plain": [
       "(0, 544531, 8429)"
      ]
     },
     "execution_count": 25,
     "metadata": {},
     "output_type": "execute_result"
    }
   ],
   "source": [
    "# At least one track per artist is preserved, but 8429 tracks are not available.\n",
    "error_cases = [k for k,v in list(_olga_to_msd.items()) if len(v) == 0]\n",
    "len(error_cases), len(save_msd), len(error_msd)"
   ]
  },
  {
   "cell_type": "code",
   "execution_count": 26,
   "id": "b70900db-8238-488b-bcf2-15f8916b60d1",
   "metadata": {},
   "outputs": [],
   "source": [
    "with open(\"./olga_to_msd.json\", \"w\") as json_file:\n",
    "    json.dump(_olga_to_msd, json_file, indent=4)"
   ]
  },
  {
   "cell_type": "code",
   "execution_count": null,
   "id": "d092dca0-592e-43c8-8c52-9b3f73757e45",
   "metadata": {},
   "outputs": [],
   "source": []
  }
 ],
 "metadata": {
  "kernelspec": {
   "display_name": "Python 3 (ipykernel)",
   "language": "python",
   "name": "python3"
  },
  "language_info": {
   "codemirror_mode": {
    "name": "ipython",
    "version": 3
   },
   "file_extension": ".py",
   "mimetype": "text/x-python",
   "name": "python",
   "nbconvert_exporter": "python",
   "pygments_lexer": "ipython3",
   "version": "3.11.4"
  }
 },
 "nbformat": 4,
 "nbformat_minor": 5
}
