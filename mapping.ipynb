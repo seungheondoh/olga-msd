{
 "cells": [
  {
   "cell_type": "code",
   "execution_count": 2,
   "id": "470c928b-8d7e-41e2-9feb-6d351a8a928c",
   "metadata": {},
   "outputs": [],
   "source": [
    "import os\n",
    "import json\n",
    "import pandas as pd\n",
    "import sqlite3\n",
    "import numpy as np\n",
    "from tqdm.notebook import tqdm\n",
    "import pickle"
   ]
  },
  {
   "cell_type": "markdown",
   "id": "c1b07f45-3d2b-490f-9eff-451350c4eda1",
   "metadata": {},
   "source": [
    "# 1. Load Metadata"
   ]
  },
  {
   "cell_type": "code",
   "execution_count": 49,
   "id": "cee823f5-488c-4142-a9cc-896353015bcb",
   "metadata": {},
   "outputs": [
    {
     "data": {
      "text/plain": [
       "['music_dataset_split', 'olga', 'track_metadata.db']"
      ]
     },
     "execution_count": 49,
     "metadata": {},
     "output_type": "execute_result"
    }
   ],
   "source": [
    "os.listdir(\"./datasets\")"
   ]
  },
  {
   "cell_type": "code",
   "execution_count": 3,
   "id": "7530c324-7f52-4383-a400-be65e192ce19",
   "metadata": {},
   "outputs": [],
   "source": [
    "con = sqlite3.connect(\"./datasets/track_metadata.db\")\n",
    "msd_db = pd.read_sql_query(\"SELECT * FROM songs\", con)"
   ]
  },
  {
   "cell_type": "code",
   "execution_count": 9,
   "id": "cff5aa1c-4911-488f-a515-9b1099603a8d",
   "metadata": {},
   "outputs": [
    {
     "data": {
      "text/html": [
       "<div>\n",
       "<style scoped>\n",
       "    .dataframe tbody tr th:only-of-type {\n",
       "        vertical-align: middle;\n",
       "    }\n",
       "\n",
       "    .dataframe tbody tr th {\n",
       "        vertical-align: top;\n",
       "    }\n",
       "\n",
       "    .dataframe thead th {\n",
       "        text-align: right;\n",
       "    }\n",
       "</style>\n",
       "<table border=\"1\" class=\"dataframe\">\n",
       "  <thead>\n",
       "    <tr style=\"text-align: right;\">\n",
       "      <th></th>\n",
       "      <th>track_id</th>\n",
       "      <th>title</th>\n",
       "      <th>song_id</th>\n",
       "      <th>release</th>\n",
       "      <th>artist_id</th>\n",
       "      <th>artist_name</th>\n",
       "      <th>duration</th>\n",
       "      <th>artist_familiarity</th>\n",
       "      <th>artist_hotttnesss</th>\n",
       "      <th>year</th>\n",
       "      <th>track_7digitalid</th>\n",
       "      <th>shs_perf</th>\n",
       "      <th>shs_work</th>\n",
       "    </tr>\n",
       "    <tr>\n",
       "      <th>artist_mbid</th>\n",
       "      <th></th>\n",
       "      <th></th>\n",
       "      <th></th>\n",
       "      <th></th>\n",
       "      <th></th>\n",
       "      <th></th>\n",
       "      <th></th>\n",
       "      <th></th>\n",
       "      <th></th>\n",
       "      <th></th>\n",
       "      <th></th>\n",
       "      <th></th>\n",
       "      <th></th>\n",
       "    </tr>\n",
       "  </thead>\n",
       "  <tbody>\n",
       "    <tr>\n",
       "      <th>357ff05d-848a-44cf-b608-cb34b5701ae5</th>\n",
       "      <td>TRMMMYQ128F932D901</td>\n",
       "      <td>Silent Night</td>\n",
       "      <td>SOQMMHC12AB0180CB8</td>\n",
       "      <td>Monster Ballads X-Mas</td>\n",
       "      <td>ARYZTJS1187B98C555</td>\n",
       "      <td>Faster Pussy cat</td>\n",
       "      <td>252.05506</td>\n",
       "      <td>0.649822</td>\n",
       "      <td>0.394032</td>\n",
       "      <td>2003</td>\n",
       "      <td>7032331</td>\n",
       "      <td>-1</td>\n",
       "      <td>0</td>\n",
       "    </tr>\n",
       "    <tr>\n",
       "      <th>8d7ef530-a6fd-4f8f-b2e2-74aec765e0f9</th>\n",
       "      <td>TRMMMKD128F425225D</td>\n",
       "      <td>Tanssi vaan</td>\n",
       "      <td>SOVFVAK12A8C1350D9</td>\n",
       "      <td>Karkuteillä</td>\n",
       "      <td>ARMVN3U1187FB3A1EB</td>\n",
       "      <td>Karkkiautomaatti</td>\n",
       "      <td>156.55138</td>\n",
       "      <td>0.439604</td>\n",
       "      <td>0.356992</td>\n",
       "      <td>1995</td>\n",
       "      <td>1514808</td>\n",
       "      <td>-1</td>\n",
       "      <td>0</td>\n",
       "    </tr>\n",
       "  </tbody>\n",
       "</table>\n",
       "</div>"
      ],
      "text/plain": [
       "                                                track_id         title  \\\n",
       "artist_mbid                                                              \n",
       "357ff05d-848a-44cf-b608-cb34b5701ae5  TRMMMYQ128F932D901  Silent Night   \n",
       "8d7ef530-a6fd-4f8f-b2e2-74aec765e0f9  TRMMMKD128F425225D   Tanssi vaan   \n",
       "\n",
       "                                                 song_id  \\\n",
       "artist_mbid                                                \n",
       "357ff05d-848a-44cf-b608-cb34b5701ae5  SOQMMHC12AB0180CB8   \n",
       "8d7ef530-a6fd-4f8f-b2e2-74aec765e0f9  SOVFVAK12A8C1350D9   \n",
       "\n",
       "                                                    release  \\\n",
       "artist_mbid                                                   \n",
       "357ff05d-848a-44cf-b608-cb34b5701ae5  Monster Ballads X-Mas   \n",
       "8d7ef530-a6fd-4f8f-b2e2-74aec765e0f9            Karkuteillä   \n",
       "\n",
       "                                               artist_id       artist_name  \\\n",
       "artist_mbid                                                                  \n",
       "357ff05d-848a-44cf-b608-cb34b5701ae5  ARYZTJS1187B98C555  Faster Pussy cat   \n",
       "8d7ef530-a6fd-4f8f-b2e2-74aec765e0f9  ARMVN3U1187FB3A1EB  Karkkiautomaatti   \n",
       "\n",
       "                                       duration  artist_familiarity  \\\n",
       "artist_mbid                                                           \n",
       "357ff05d-848a-44cf-b608-cb34b5701ae5  252.05506            0.649822   \n",
       "8d7ef530-a6fd-4f8f-b2e2-74aec765e0f9  156.55138            0.439604   \n",
       "\n",
       "                                      artist_hotttnesss  year  \\\n",
       "artist_mbid                                                     \n",
       "357ff05d-848a-44cf-b608-cb34b5701ae5           0.394032  2003   \n",
       "8d7ef530-a6fd-4f8f-b2e2-74aec765e0f9           0.356992  1995   \n",
       "\n",
       "                                      track_7digitalid  shs_perf  shs_work  \n",
       "artist_mbid                                                                 \n",
       "357ff05d-848a-44cf-b608-cb34b5701ae5           7032331        -1         0  \n",
       "8d7ef530-a6fd-4f8f-b2e2-74aec765e0f9           1514808        -1         0  "
      ]
     },
     "execution_count": 9,
     "metadata": {},
     "output_type": "execute_result"
    }
   ],
   "source": [
    "msd_db = msd_db.set_index(\"artist_mbid\")\n",
    "msd_db.head(2)"
   ]
  },
  {
   "cell_type": "code",
   "execution_count": 5,
   "id": "3b01c853-2f28-4634-aa3d-b8a09b174aac",
   "metadata": {},
   "outputs": [
    {
     "data": {
      "text/html": [
       "<div>\n",
       "<style scoped>\n",
       "    .dataframe tbody tr th:only-of-type {\n",
       "        vertical-align: middle;\n",
       "    }\n",
       "\n",
       "    .dataframe tbody tr th {\n",
       "        vertical-align: top;\n",
       "    }\n",
       "\n",
       "    .dataframe thead th {\n",
       "        text-align: right;\n",
       "    }\n",
       "</style>\n",
       "<table border=\"1\" class=\"dataframe\">\n",
       "  <thead>\n",
       "    <tr style=\"text-align: right;\">\n",
       "      <th></th>\n",
       "      <th>musicbrainz_id</th>\n",
       "      <th>partition</th>\n",
       "      <th>tracks</th>\n",
       "    </tr>\n",
       "    <tr>\n",
       "      <th>index</th>\n",
       "      <th></th>\n",
       "      <th></th>\n",
       "      <th></th>\n",
       "    </tr>\n",
       "  </thead>\n",
       "  <tbody>\n",
       "    <tr>\n",
       "      <th>0</th>\n",
       "      <td>c5b11a19-5ba6-4554-a65b-e505c3296d48</td>\n",
       "      <td>train</td>\n",
       "      <td>['0376162c-24b4-4b52-a351-185e40de9b71', '1607...</td>\n",
       "    </tr>\n",
       "    <tr>\n",
       "      <th>1</th>\n",
       "      <td>252ca659-19c6-46e1-a464-c4b80300bb02</td>\n",
       "      <td>train</td>\n",
       "      <td>['029aebb5-4991-435a-90db-f56122c8fc4c', '0432...</td>\n",
       "    </tr>\n",
       "  </tbody>\n",
       "</table>\n",
       "</div>"
      ],
      "text/plain": [
       "                             musicbrainz_id partition  \\\n",
       "index                                                   \n",
       "0      c5b11a19-5ba6-4554-a65b-e505c3296d48     train   \n",
       "1      252ca659-19c6-46e1-a464-c4b80300bb02     train   \n",
       "\n",
       "                                                  tracks  \n",
       "index                                                     \n",
       "0      ['0376162c-24b4-4b52-a351-185e40de9b71', '1607...  \n",
       "1      ['029aebb5-4991-435a-90db-f56122c8fc4c', '0432...  "
      ]
     },
     "execution_count": 5,
     "metadata": {},
     "output_type": "execute_result"
    }
   ],
   "source": [
    "df_olga = pd.read_csv(\"./datasets/olga/olga.csv\", index_col = 0)\n",
    "df_olga.head(2)"
   ]
  },
  {
   "cell_type": "markdown",
   "id": "14ffbc00-288f-4790-8171-4144ec92e687",
   "metadata": {},
   "source": [
    "# 2. OLGA to MSD"
   ]
  },
  {
   "cell_type": "code",
   "execution_count": 30,
   "id": "b3030ca4-525a-40d6-bd69-0a449f325c73",
   "metadata": {},
   "outputs": [
    {
     "data": {
      "application/vnd.jupyter.widget-view+json": {
       "model_id": "755055c081bb4259a6351bd7f066b7f8",
       "version_major": 2,
       "version_minor": 0
      },
      "text/plain": [
       "  0%|          | 0/17673 [00:00<?, ?it/s]"
      ]
     },
     "metadata": {},
     "output_type": "display_data"
    }
   ],
   "source": [
    "olga_to_msd, unique_tracks = {}, []\n",
    "for mbid in tqdm(df_olga['musicbrainz_id']):\n",
    "    instance = msd_db.loc[mbid]\n",
    "    paired_track = list(set(instance['track_id']))\n",
    "    olga_to_msd[mbid] = paired_track\n",
    "    unique_tracks.extend(paired_track)"
   ]
  },
  {
   "cell_type": "code",
   "execution_count": 34,
   "id": "a9c9d37e-f050-48fa-b551-c8d33a5e892d",
   "metadata": {},
   "outputs": [
    {
     "data": {
      "text/plain": [
       "551839"
      ]
     },
     "execution_count": 34,
     "metadata": {},
     "output_type": "execute_result"
    }
   ],
   "source": [
    "len(set(unique_tracks)) # 552k msd tracks are connected to OLGA Artist."
   ]
  },
  {
   "cell_type": "code",
   "execution_count": 35,
   "id": "f2beaa83-1fdd-456f-a552-e71b0a04ecfd",
   "metadata": {},
   "outputs": [
    {
     "data": {
      "text/plain": [
       "('c5b11a19-5ba6-4554-a65b-e505c3296d48',\n",
       " ['TRRNNZM12903CE05C8',\n",
       "  'TRDJOPM12903CE05DE',\n",
       "  'TRGYKVB12903CE05CD',\n",
       "  'TRDXBLR12903CE05EA',\n",
       "  'TRBXMMJ12903CE05DB',\n",
       "  'TRLTWWT12903CE05E2',\n",
       "  'TRPLSLX12903CE05D7',\n",
       "  'TRXGLJP12903CE05D3',\n",
       "  'TRDVJVX12903CE05D0',\n",
       "  'TRFNHSW12903CE05E7'])"
      ]
     },
     "execution_count": 35,
     "metadata": {},
     "output_type": "execute_result"
    }
   ],
   "source": [
    "list(olga_to_msd.items())[0]"
   ]
  },
  {
   "cell_type": "markdown",
   "id": "eb7f8a01-9a69-4e54-be88-00646cf4dd73",
   "metadata": {},
   "source": [
    "# 3. Statistics"
   ]
  },
  {
   "cell_type": "code",
   "execution_count": 38,
   "id": "652a3984-500a-4e49-afd9-9f743be7f7b2",
   "metadata": {},
   "outputs": [
    {
     "name": "stdout",
     "output_type": "stream",
     "text": [
      "avg:  32  min:  2  max:  208\n"
     ]
    },
    {
     "data": {
      "image/png": "[encoded data removed]",
      "text/plain": [
       "<Figure size 640x480 with 1 Axes>"
      ]
     },
     "metadata": {},
     "output_type": "display_data"
    }
   ],
   "source": [
    "import matplotlib.pyplot as plt\n",
    "artist_per_track = [len(track_ids) for artist, track_ids in olga_to_msd.items()]\n",
    "print(\"avg: \", int(np.mean(artist_per_track)), \" min: \",np.min(artist_per_track), \" max: \",np.max(artist_per_track))\n",
    "plt.hist(artist_per_track, bins=range(min(artist_per_track), max(artist_per_track) + 1), alpha=0.7)\n",
    "plt.title('Histogram of Artist Per Track')\n",
    "plt.xlabel('Number of Track')\n",
    "plt.ylabel('Frequency')\n",
    "plt.show()"
   ]
  },
  {
   "cell_type": "code",
   "execution_count": 46,
   "id": "8b1874a6-d052-4195-9c07-7e258b5cf95d",
   "metadata": {},
   "outputs": [
    {
     "name": "stdout",
     "output_type": "stream",
     "text": [
      "less than 25 track artist:  0.5130424942001924\n",
      "more than 50 track artist:  0.16675154190007355\n"
     ]
    }
   ],
   "source": [
    "less_track_artist = [x for x in artist_per_track if x <= 25]\n",
    "many_track_arist = [x for x in artist_per_track if x > 50]\n",
    "print(\"less than 25 track artist: \", (len(less_track_artist) / len(artist_per_track)))\n",
    "print(\"more than 50 track artist: \", (len(many_track_arist) / len(artist_per_track)))"
   ]
  },
  {
   "cell_type": "markdown",
   "id": "7383aa56-b499-4c68-8072-c2be2ad32096",
   "metadata": {},
   "source": [
    "# 4. Check Missing Tracks\n",
    "\n",
    "There may be problems with MSD Audio for each research group, and there may be cases where audio is lost. Check for this."
   ]
  },
  {
   "cell_type": "code",
   "execution_count": 50,
   "id": "1f394506-114a-4a89-abbc-eb91a820af4d",
   "metadata": {},
   "outputs": [],
   "source": [
    "msd_to_id = pickle.load(open(os.path.join(\"./datasets/music_dataset_split/MSD_split\", \"MSD_id_to_7D_id.pkl\"), 'rb'))\n",
    "id_to_path = pickle.load(open(os.path.join(\"./datasets/music_dataset_split/MSD_split\", \"7D_id_to_path.pkl\"), 'rb'))"
   ]
  },
  {
   "cell_type": "code",
   "execution_count": 3,
   "id": "bb245bd7-f4cc-4477-a0d8-6c685ee9c924",
   "metadata": {},
   "outputs": [],
   "source": [
    "msd_dir = \"your msd dir\""
   ]
  },
  {
   "cell_type": "code",
   "execution_count": 1,
   "id": "54b6fb8e-57c5-443f-bc39-5daff13f36d3",
   "metadata": {},
   "outputs": [],
   "source": [
    "save_ids, save_path = [], []\n",
    "import librosa\n",
    "for track_id in tqdm(set(unique_tracks)):\n",
    "    try:\n",
    "        kaist_msd_path = os.path.join(msd_dir, \"songs\", id_to_path[msd_to_id[track_id]]\n",
    "        librosa.load(kaist_msd_path), sr=None)\n",
    "        save_ids.append(track_id)\n",
    "        save_path.append(id_to_path[msd_to_id[track_id]])\n",
    "    except:\n",
    "        pass"
   ]
  }
 ],
 "metadata": {
  "kernelspec": {
   "display_name": "Python 3 (ipykernel)",
   "language": "python",
   "name": "python3"
  },
  "language_info": {
   "codemirror_mode": {
    "name": "ipython",
    "version": 3
   },
   "file_extension": ".py",
   "mimetype": "text/x-python",
   "name": "python",
   "nbconvert_exporter": "python",
   "pygments_lexer": "ipython3",
   "version": "3.11.4"
  }
 },
 "nbformat": 4,
 "nbformat_minor": 5
}
